{
 "cells": [
  {
   "cell_type": "markdown",
   "id": "f63d97e7-f2a1-48e0-9179-7c39cd38e413",
   "metadata": {
    "tags": []
   },
   "source": [
    "# Data Sceince Tools and Ecosystem"
   ]
  },
  {
   "cell_type": "markdown",
   "id": "a8a632cf-3ebd-4da0-a3c4-25c47d614d5f",
   "metadata": {
    "tags": []
   },
   "source": [
    "In this notebook, Data Science Tools and ecosystem are summarized."
   ]
  },
  {
   "cell_type": "markdown",
   "id": "957c20cb-240b-427e-8b37-f96e4abf1f7a",
   "metadata": {},
   "source": [
    "### Some of the popular languages that data scientists use are:\n",
    "   "
   ]
  },
  {
   "cell_type": "markdown",
   "id": "124a8a8d-2932-43ce-9fbc-4f5fe177f356",
   "metadata": {},
   "source": [
    "1. Python\n",
    "2. R\n",
    "3. Sql\n"
   ]
  },
  {
   "cell_type": "markdown",
   "id": "2858388d-7729-4b9c-9e05-4d60dbd861e1",
   "metadata": {},
   "source": [
    "### Some of the commonly used libraries used by Data Scientists include:"
   ]
  },
  {
   "cell_type": "markdown",
   "id": "b6955cec-5de0-4eb2-92bc-a1bc1f92d801",
   "metadata": {},
   "source": [
    "1. Pandas\n",
    "2. Numpy\n",
    "3. Matplotlib\n",
    "4. Seaborn\n",
    "5. Scikit-learn"
   ]
  },
  {
   "cell_type": "markdown",
   "id": "3e366a0f-4d0e-4acb-85d1-1422a58f3fdf",
   "metadata": {},
   "source": [
    "| Data Science Tools|\n",
    "|----|\n",
    "|Juupter|\n",
    "|R Studios|\n",
    "|Git-hub|"
   ]
  },
  {
   "cell_type": "markdown",
   "id": "ce8c8b72-0b50-478d-b46f-78b22296d9ee",
   "metadata": {},
   "source": [
    "### Below are a few Examples of evaluating arithmetic expression in Python"
   ]
  },
  {
   "cell_type": "code",
   "execution_count": 3,
   "id": "3b490113-af07-4210-9a55-d09c217a85c0",
   "metadata": {
    "tags": []
   },
   "outputs": [
    {
     "data": {
      "text/plain": [
       "17"
      ]
     },
     "execution_count": 3,
     "metadata": {},
     "output_type": "execute_result"
    }
   ],
   "source": [
    "(3*4)+5"
   ]
  },
  {
   "cell_type": "markdown",
   "id": "79900ac9-b35a-4505-9bfc-b5c2c848bb9f",
   "metadata": {},
   "source": [
    "This code will convert 200 min into hours by dividing by 60\n",
    "\n"
   ]
  },
  {
   "cell_type": "code",
   "execution_count": 4,
   "id": "a7af1193-08d9-431f-ab3b-7b1335d33f29",
   "metadata": {
    "tags": []
   },
   "outputs": [
    {
     "data": {
      "text/plain": [
       "3.3333333333333335"
      ]
     },
     "execution_count": 4,
     "metadata": {},
     "output_type": "execute_result"
    }
   ],
   "source": [
    "200/60\n"
   ]
  },
  {
   "cell_type": "markdown",
   "id": "3d652e7d-6561-4823-ada3-c2b01da0deba",
   "metadata": {},
   "source": [
    "**Objectives**"
   ]
  },
  {
   "cell_type": "markdown",
   "id": "1d380dbd-52b3-48c6-a6fa-95cd29ac95bb",
   "metadata": {},
   "source": [
    "- List popular languages for data science.\n",
    "- lits commonly used libraries used by data scients\n",
    "- lits examples of evaluating arithmetic expression in Python"
   ]
  },
  {
   "cell_type": "markdown",
   "id": "6989a8fe-a627-4c6a-87e2-18a40388215f",
   "metadata": {},
   "source": [
    "## Author\n"
   ]
  },
  {
   "cell_type": "markdown",
   "id": "491d6c53-5eb9-4f63-b115-4a5cc2ef58c4",
   "metadata": {
    "tags": []
   },
   "source": [
    "Nabeel Momin\n"
   ]
  },
  {
   "cell_type": "code",
   "execution_count": null,
   "id": "a5b852ed-643d-4572-87af-84a617c2d939",
   "metadata": {},
   "outputs": [],
   "source": []
  }
 ],
 "metadata": {
  "kernelspec": {
   "display_name": "Python",
   "language": "python",
   "name": "conda-env-python-py"
  },
  "language_info": {
   "codemirror_mode": {
    "name": "ipython",
    "version": 3
   },
   "file_extension": ".py",
   "mimetype": "text/x-python",
   "name": "python",
   "nbconvert_exporter": "python",
   "pygments_lexer": "ipython3",
   "version": "3.7.12"
  }
 },
 "nbformat": 4,
 "nbformat_minor": 5
}
